{
 "cells": [
  {
   "cell_type": "markdown",
   "id": "aa96f03e",
   "metadata": {
    "vscode": {
     "languageId": "plaintext"
    }
   },
   "source": [
    "# SCINApy示例"
   ]
  },
  {
   "cell_type": "markdown",
   "id": "917b9da3",
   "metadata": {},
   "source": [
    "## 加载示例数据"
   ]
  },
  {
   "cell_type": "code",
   "execution_count": 1,
   "id": "e92c689f",
   "metadata": {},
   "outputs": [
    {
     "data": {
      "text/plain": [
       "AnnData object with n_obs × n_vars = 400 × 128"
      ]
     },
     "execution_count": 1,
     "metadata": {},
     "output_type": "execute_result"
    }
   ],
   "source": [
    "from SCINApy import load_sample_data\n",
    "\n",
    "adata, signatures = load_sample_data()\n",
    "adata"
   ]
  },
  {
   "cell_type": "markdown",
   "id": "03f6720b",
   "metadata": {},
   "source": [
    "## SCINA算法自动注释"
   ]
  },
  {
   "cell_type": "code",
   "execution_count": 3,
   "id": "e3a74719",
   "metadata": {},
   "outputs": [
    {
     "data": {
      "text/plain": [
       "array([[2.27731817, 2.27731817, 2.27731817, ..., 2.27731817, 2.27731817,\n",
       "        2.27731817],\n",
       "       [0.9940605 , 0.9940605 , 0.9940605 , ..., 0.9940605 , 0.9940605 ,\n",
       "        0.9940605 ],\n",
       "       [1.86085548, 1.86085548, 1.86085548, ..., 1.86085548, 1.86085548,\n",
       "        1.86085548],\n",
       "       ...,\n",
       "       [0.18506778, 0.18506778, 0.18506778, ..., 0.18506778, 0.18506778,\n",
       "        0.18506778],\n",
       "       [1.15826885, 1.15826885, 1.15826885, ..., 1.15826885, 1.15826885,\n",
       "        1.15826885],\n",
       "       [0.8175939 , 0.8175939 , 0.8175939 , ..., 0.8175939 , 0.8175939 ,\n",
       "        0.8175939 ]])"
      ]
     },
     "execution_count": 3,
     "metadata": {},
     "output_type": "execute_result"
    }
   ],
   "source": [
    "import numpy as np\n",
    "np.ones((400,11))-np.random.normal(loc=0, scale=1, size=(400, 1))\n"
   ]
  },
  {
   "cell_type": "code",
   "execution_count": 1,
   "id": "abb41364",
   "metadata": {},
   "outputs": [
    {
     "name": "stdout",
     "output_type": "stream",
     "text": [
      "(400, 11) (400,) (400,)\n",
      "(400, 6) (400,) (400,)\n",
      "(400, 11) (400,) (400,)\n",
      "(11, 400) (400,) (400, 400)\n"
     ]
    },
    {
     "name": "stderr",
     "output_type": "stream",
     "text": [
      "/Volumes/MacPassport/project/SCINApy/SCINApy/core.py:127: RuntimeWarning: invalid value encountered in divide\n",
      "  prob_mat[r] = tao[r] * pdf_high / (pdf_high + pdf_low)\n"
     ]
    },
    {
     "ename": "ValueError",
     "evalue": "could not broadcast input array from shape (11,) into shape (128,)",
     "output_type": "error",
     "traceback": [
      "\u001b[31m---------------------------------------------------------------------------\u001b[39m",
      "\u001b[31mValueError\u001b[39m                                Traceback (most recent call last)",
      "\u001b[36mCell\u001b[39m\u001b[36m \u001b[39m\u001b[32mIn[1]\u001b[39m\u001b[32m, line 3\u001b[39m\n\u001b[32m      1\u001b[39m \u001b[38;5;28;01mfrom\u001b[39;00m\u001b[38;5;250m \u001b[39m\u001b[34;01mSCINApy\u001b[39;00m\u001b[38;5;250m \u001b[39m\u001b[38;5;28;01mimport\u001b[39;00m SCINA, load_sample_data\n\u001b[32m      2\u001b[39m adata, signatures = load_sample_data()\n\u001b[32m----> \u001b[39m\u001b[32m3\u001b[39m SCINA(adata=adata, signatures=signatures)\n",
      "\u001b[36mFile \u001b[39m\u001b[32m/Volumes/MacPassport/project/SCINApy/SCINApy/core.py:127\u001b[39m, in \u001b[36mSCINA\u001b[39m\u001b[34m(adata, signatures, max_iter, convergence_n, convergence_rate, sensitivity_cutoff, allow_unknown, log_file)\u001b[39m\n\u001b[32m    125\u001b[39m     pdf_high = multivariate_normal.pdf(expr.T, theta[r][\u001b[33m'\u001b[39m\u001b[33mmean\u001b[39m\u001b[33m'\u001b[39m][\u001b[32m0\u001b[39m], theta[r][\u001b[33m'\u001b[39m\u001b[33msigma1\u001b[39m\u001b[33m'\u001b[39m])\n\u001b[32m    126\u001b[39m     pdf_low = multivariate_normal.pdf(expr.T, theta[r][\u001b[33m'\u001b[39m\u001b[33mmean\u001b[39m\u001b[33m'\u001b[39m][\u001b[32m1\u001b[39m], theta[r][\u001b[33m'\u001b[39m\u001b[33msigma2\u001b[39m\u001b[33m'\u001b[39m])\n\u001b[32m--> \u001b[39m\u001b[32m127\u001b[39m     prob_mat[r] = tao[r] * pdf_high / (pdf_high + pdf_low)\n\u001b[32m    129\u001b[39m prob_mat = prob_mat / (\u001b[32m1\u001b[39m - \u001b[38;5;28msum\u001b[39m(tao) + prob_mat.sum(axis=\u001b[32m0\u001b[39m))\n\u001b[32m    131\u001b[39m tao = prob_mat.mean(axis=\u001b[32m1\u001b[39m)\n",
      "\u001b[31mValueError\u001b[39m: could not broadcast input array from shape (11,) into shape (128,)"
     ]
    }
   ],
   "source": [
    "from SCINApy import SCINA, load_sample_data\n",
    "adata, signatures = load_sample_data()\n",
    "SCINA(adata=adata, signatures=signatures)"
   ]
  },
  {
   "cell_type": "markdown",
   "id": "0433f159",
   "metadata": {},
   "source": []
  },
  {
   "cell_type": "code",
   "execution_count": 4,
   "id": "a97832c7",
   "metadata": {},
   "outputs": [],
   "source": [
    "import pandas as pd\n",
    "from SCINApy import load_sample_data\n",
    "adata, signatures = load_sample_data()\n",
    "exp = pd.DataFrame(adata.X.toarray(), index=adata.obs_names, columns=adata.var_names)\n",
    "# 检查signature中是否包含空值\n",
    "if any(not gene for sig in signatures.values() for gene in sig):\n",
    "    quality = 0\n",
    "else:\n",
    "    # 去除基因集中的空值\n",
    "    signatures = {k: [g for g in v if g in adata.var_names] for k, v in signatures.items()}\n",
    "\n",
    "    # 去除全0基因\n",
    "    std_devs = exp.std(axis=0)\n",
    "    signatures = {k: [g for g in v if std_devs[g] > 0] for k, v in signatures.items()}"
   ]
  },
  {
   "cell_type": "code",
   "execution_count": 3,
   "id": "b0886f6a",
   "metadata": {},
   "outputs": [
    {
     "data": {
      "text/plain": [
       "False"
      ]
     },
     "execution_count": 3,
     "metadata": {},
     "output_type": "execute_result"
    }
   ],
   "source": [
    "not 'AIF1' and 'AIF1' in adata.var_names"
   ]
  },
  {
   "cell_type": "code",
   "execution_count": null,
   "id": "c8119a7a",
   "metadata": {},
   "outputs": [],
   "source": []
  }
 ],
 "metadata": {
  "kernelspec": {
   "display_name": "Python (bioinfo)",
   "language": "python",
   "name": "bioinfo"
  },
  "language_info": {
   "codemirror_mode": {
    "name": "ipython",
    "version": 3
   },
   "file_extension": ".py",
   "mimetype": "text/x-python",
   "name": "python",
   "nbconvert_exporter": "python",
   "pygments_lexer": "ipython3",
   "version": "3.13.2"
  }
 },
 "nbformat": 4,
 "nbformat_minor": 5
}
