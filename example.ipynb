{
 "cells": [
  {
   "cell_type": "markdown",
   "id": "aa96f03e",
   "metadata": {
    "vscode": {
     "languageId": "plaintext"
    }
   },
   "source": [
    "# SCINApy示例"
   ]
  },
  {
   "cell_type": "markdown",
   "id": "917b9da3",
   "metadata": {},
   "source": [
    "## 加载示例数据"
   ]
  },
  {
   "cell_type": "code",
   "execution_count": 1,
   "id": "e92c689f",
   "metadata": {},
   "outputs": [
    {
     "data": {
      "text/plain": [
       "AnnData object with n_obs × n_vars = 400 × 128"
      ]
     },
     "execution_count": 1,
     "metadata": {},
     "output_type": "execute_result"
    }
   ],
   "source": [
    "from SCINApy import load_sample_data\n",
    "\n",
    "adata, signatures = load_sample_data()\n",
    "adata"
   ]
  },
  {
   "cell_type": "markdown",
   "id": "03f6720b",
   "metadata": {},
   "source": [
    "## SCINA算法自动注释"
   ]
  },
  {
   "cell_type": "code",
   "execution_count": 1,
   "id": "abb41364",
   "metadata": {},
   "outputs": [
    {
     "data": {
      "text/plain": [
       "Counter({'cd14_monocytes': 166, 'b_cells': 161, 'unknown': 67, 'cd56_nk': 6})"
      ]
     },
     "execution_count": 1,
     "metadata": {},
     "output_type": "execute_result"
    }
   ],
   "source": [
    "from SCINApy import SCINA, load_sample_data\n",
    "adata, signatures = load_sample_data()\n",
    "result = SCINA(adata=adata, signatures=signatures)\n",
    "\n",
    "from collections import Counter\n",
    "Counter(result[\"cell_labels\"])"
   ]
  }
 ],
 "metadata": {
  "kernelspec": {
   "display_name": "bioinfo",
   "language": "python",
   "name": "bioinfo"
  },
  "language_info": {
   "codemirror_mode": {
    "name": "ipython",
    "version": 3
   },
   "file_extension": ".py",
   "mimetype": "text/x-python",
   "name": "python",
   "nbconvert_exporter": "python",
   "pygments_lexer": "ipython3",
   "version": "3.12.3"
  }
 },
 "nbformat": 4,
 "nbformat_minor": 5
}
